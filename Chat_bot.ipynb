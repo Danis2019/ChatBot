{
  "cells": [
    {
      "cell_type": "code",
      "execution_count": null,
      "id": "ade4939a",
      "metadata": {
        "id": "ade4939a"
      },
      "outputs": [],
      "source": [
        "import json\n",
        "import re"
      ]
    },
    {
      "cell_type": "code",
      "execution_count": null,
      "id": "14f12037",
      "metadata": {
        "id": "14f12037"
      },
      "outputs": [],
      "source": [
        "with open(\"result.json\") as read_file:\n",
        "    data = json.load(read_file)"
      ]
    },
    {
      "cell_type": "code",
      "execution_count": null,
      "id": "6c627be2",
      "metadata": {
        "colab": {
          "base_uri": "https://localhost:8080/",
          "height": 35
        },
        "id": "6c627be2",
        "outputId": "aca41f6d-5e83-4496-94dd-e13dcd67bebb"
      },
      "outputs": [
        {
          "data": {
            "application/vnd.google.colaboratory.intrinsic+json": {
              "type": "string"
            },
            "text/plain": [
              "'🤨'"
            ]
          },
          "execution_count": 3,
          "metadata": {},
          "output_type": "execute_result"
        }
      ],
      "source": [
        "data['messages'][39]['text']"
      ]
    },
    {
      "cell_type": "code",
      "execution_count": null,
      "id": "a4da943b",
      "metadata": {
        "id": "a4da943b"
      },
      "outputs": [],
      "source": [
        "def remove_emoji(string):\n",
        "    emoji_pattern = re.compile(\"[\"\n",
        "                               u\"\\U0001F600-\\U0001F64F\"  # emoticons\n",
        "                               u\"\\U0001F300-\\U0001F5FF\"  # symbols & pictographs\n",
        "                               u\"\\U0001F680-\\U0001F6FF\"  # transport & map symbols\n",
        "                               u\"\\U0001F1E0-\\U0001F1FF\"  # flags (iOS)\n",
        "                               u\"\\U00002500-\\U00002BEF\"  # chinese char\n",
        "                               u\"\\U00002702-\\U000027B0\"\n",
        "                               u\"\\U00002702-\\U000027B0\"\n",
        "                               u\"\\U000024C2-\\U0001F251\"\n",
        "                               u\"\\U0001f926-\\U0001f937\"\n",
        "                               u\"\\U00010000-\\U0010ffff\"\n",
        "                               u\"\\u2640-\\u2642\"\n",
        "                               u\"\\u2600-\\u2B55\"\n",
        "                               u\"\\u200d\"\n",
        "                               u\"\\u23cf\"\n",
        "                               u\"\\u23e9\"\n",
        "                               u\"\\u231a\"\n",
        "                               u\"\\ufe0f\"  # dingbats\n",
        "                               u\"\\u3030\"\n",
        "                               \"]+\", flags=re.UNICODE)\n",
        "    return emoji_pattern.sub(r'', string)"
      ]
    },
    {
      "cell_type": "code",
      "execution_count": null,
      "id": "a8a5de53",
      "metadata": {
        "colab": {
          "base_uri": "https://localhost:8080/",
          "height": 35
        },
        "id": "a8a5de53",
        "outputId": "d395af61-f10f-4209-9617-5e91c1c13b26"
      },
      "outputs": [
        {
          "data": {
            "application/vnd.google.colaboratory.intrinsic+json": {
              "type": "string"
            },
            "text/plain": [
              "'это шифр '"
            ]
          },
          "execution_count": 5,
          "metadata": {},
          "output_type": "execute_result"
        }
      ],
      "source": [
        "remove_emoji('это шифр 🤨')"
      ]
    },
    {
      "cell_type": "code",
      "execution_count": null,
      "id": "a8cb03d0",
      "metadata": {
        "colab": {
          "base_uri": "https://localhost:8080/"
        },
        "id": "a8cb03d0",
        "outputId": "554deff6-158a-4bf9-fdbb-4e8b708fdfd9"
      },
      "outputs": [],
      "source": [
        "last_person = ''\n",
        "phrase = ''\n",
        "questions = []\n",
        "answers = []\n",
        "for message in data['messages']:\n",
        "    if type(message['text']) != str:\n",
        "        continue\n",
        "    else:\n",
        "        text = remove_emoji(message['text'])\n",
        "        if text == '':\n",
        "            continue\n",
        "    try:\n",
        "        if message['from'] == last_person:\n",
        "            phrase += \" \" + text\n",
        "        else:\n",
        "            if last_person == 'Данис Батыршин':\n",
        "                questions.append(phrase)\n",
        "            else:\n",
        "                if phrase != '':\n",
        "                    if (len(answers) > 0):\n",
        "                        answers[-1] += \" <END>\"\n",
        "                    answers.append('<START> ' + phrase)\n",
        "            print(last_person)\n",
        "            print(phrase)\n",
        "            phrase = text\n",
        "    except KeyError:\n",
        "        if message['actor'] == last_person:\n",
        "            phrase += \" \" + text\n",
        "        else:\n",
        "            if last_person == 'Данис Батыршин':\n",
        "                questions.append(phrase)\n",
        "            else:\n",
        "                if phrase != '':\n",
        "                    if (len(answers) > 0):\n",
        "                        answers[-1] += \" <END>\"\n",
        "                    answers.append('<START> ' + phrase)\n",
        "            print(last_person)\n",
        "            print(phrase)\n",
        "            phrase = text\n",
        "\n",
        "    try:\n",
        "        last_person = message['from']\n",
        "    except KeyError:\n",
        "        last_person = message['actor']"
      ]
    },
    {
      "cell_type": "code",
      "execution_count": null,
      "id": "OlEsbUjsuJAZ",
      "metadata": {
        "id": "OlEsbUjsuJAZ"
      },
      "outputs": [],
      "source": [
        "questions_short = []\n",
        "for q in questions:\n",
        "    questions_short.append(q[:200])\n",
        "answers_short = []\n",
        "for a in answers:\n",
        "    answers_short.append(a[:200])\n",
        "questions = questions_short[:3500]\n",
        "answers = answers_short[:3500]"
      ]
    },
    {
      "cell_type": "code",
      "execution_count": null,
      "id": "d6d6b671",
      "metadata": {
        "colab": {
          "base_uri": "https://localhost:8080/"
        },
        "id": "d6d6b671",
        "outputId": "b3a6feda-e744-41e6-92cc-5f92630d19dc"
      },
      "outputs": [
        {
          "data": {
            "text/plain": [
              "3500"
            ]
          },
          "execution_count": 8,
          "metadata": {},
          "output_type": "execute_result"
        }
      ],
      "source": [
        "len(questions)"
      ]
    },
    {
      "cell_type": "code",
      "execution_count": null,
      "id": "bfc1a2f5",
      "metadata": {
        "colab": {
          "base_uri": "https://localhost:8080/"
        },
        "id": "bfc1a2f5",
        "outputId": "cd161c80-0ed7-461c-f73d-74512f92b2db"
      },
      "outputs": [
        {
          "data": {
            "text/plain": [
              "3500"
            ]
          },
          "execution_count": 9,
          "metadata": {},
          "output_type": "execute_result"
        }
      ],
      "source": [
        "len(answers)"
      ]
    },
    {
      "cell_type": "code",
      "execution_count": null,
      "id": "foAHNpRHfhHc",
      "metadata": {
        "id": "foAHNpRHfhHc"
      },
      "outputs": [],
      "source": [
        "from keras.preprocessing.text import Tokenizer\n",
        "# from keras.preprocessing.sequence import pad_sequences\n",
        "from keras.utils import pad_sequences\n",
        "from keras import utils\n",
        "import numpy as np"
      ]
    },
    {
      "cell_type": "code",
      "execution_count": null,
      "id": "80adb9c8",
      "metadata": {
        "colab": {
          "base_uri": "https://localhost:8080/"
        },
        "id": "80adb9c8",
        "outputId": "6d98e867-ced6-45b8-e7f2-08619b141ff0"
      },
      "outputs": [],
      "source": [
        "# Подключаем керасовский токенизатор и собираем словарь индексов { display-mode: \"form\" }\n",
        "#vocabularySize = 1000 #30000\n",
        "tokenizer = Tokenizer(num_words=None) #num_words=vocabularySize,  filters='!–\"—#$%&()*+,-./:;=?@[\\\\]^_`{|}~\\t\\n\\r«»'\n",
        "tokenizer.fit_on_texts(questions + answers) # загружаем в токенизатор список вопросов-ответов для сборки словаря частотности\n",
        "vocabularyItems = list(tokenizer.word_index.items()) # список с cодержимым словаря\n",
        "vocabularySize = len(vocabularyItems)+1 # размер словаря\n",
        "print( 'Фрагмент словаря : {}'.format(vocabularyItems[:100]))\n",
        "print( 'Размер словаря : {}'.format(vocabularySize))"
      ]
    },
    {
      "cell_type": "code",
      "execution_count": null,
      "id": "qrFoVBzof0wr",
      "metadata": {
        "id": "qrFoVBzof0wr"
      },
      "outputs": [],
      "source": [
        "#Подготавливаем данные для нейронной сети (вопросы или ответы) { display-mode: \"form\" }\n",
        "def prepareDataForNN(phrases, isQuestion = True):\n",
        "  tokenizedPhrases = tokenizer.texts_to_sequences(phrases) # разбиваем текст вопросов/ответов на последовательности индексов\n",
        "  maxLenPhrases = max([ len(x) for x in tokenizedPhrases]) # уточняем длину самого большого вопроса.ответа\n",
        "  # Делаем последовательности одной длины, заполняя нулями более короткие вопросы\n",
        "  paddedPhrases = pad_sequences(tokenizedPhrases, maxlen=maxLenPhrases, padding='post')\n",
        "\n",
        "  # Предподготавливаем данные для входа в сеть\n",
        "  encoded = np.array(paddedPhrases) # переводим в numpy массив\n",
        "  phraseType = \"вопрос\"\n",
        "  if not isQuestion:\n",
        "    phraseType = \"ответ\"\n",
        "  print('Пример оригинального ' + phraseType + 'а на вход : {}'.format(phrases[100]))\n",
        "  print('Пример кодированного ' + phraseType + 'а на вход : {}'.format(encoded[100]))\n",
        "  print('Размеры закодированного массива ' + phraseType + 'ов на вход : {}'.format(encoded.shape))\n",
        "  print('Установленная длина ' + phraseType + 'ов на вход : {}'.format(maxLenPhrases))\n",
        "\n",
        "  return encoded, maxLenPhrases"
      ]
    },
    {
      "cell_type": "code",
      "execution_count": null,
      "id": "KQnVW5FyhBwX",
      "metadata": {
        "colab": {
          "base_uri": "https://localhost:8080/"
        },
        "id": "KQnVW5FyhBwX",
        "outputId": "d6f5adc3-b62a-4d28-a4f8-756b2945b139"
      },
      "outputs": [],
      "source": [
        "encoderForInput, maxLenQuestions = prepareDataForNN(questions, True)"
      ]
    },
    {
      "cell_type": "code",
      "execution_count": null,
      "id": "eHMQZL4bhLOF",
      "metadata": {
        "colab": {
          "base_uri": "https://localhost:8080/"
        },
        "id": "eHMQZL4bhLOF",
        "outputId": "06112b0d-f12e-4d6e-aa5b-d60ae4c49b5a"
      },
      "outputs": [],
      "source": [
        "decoderForInput, maxLenAnswers = prepareDataForNN(answers, False)"
      ]
    },
    {
      "cell_type": "code",
      "execution_count": null,
      "id": "jlq2zBj5h5Rg",
      "metadata": {
        "colab": {
          "base_uri": "https://localhost:8080/"
        },
        "id": "jlq2zBj5h5Rg",
        "outputId": "f6648bdf-5f62-46c3-afa9-feb28483a8e9"
      },
      "outputs": [
        {
          "name": "stdout",
          "output_type": "stream",
          "text": [
            "Answers: 3500\n",
            "tokenizedAnswers: 3500\n",
            "paddedAnswers: 3500\n",
            "vocabularySize: 7837\n"
          ]
        }
      ],
      "source": [
        "#Раскодированные выходные данные(ответы) { display-mode: \"form\" }\n",
        "print(\"Answers:\", len(answers))\n",
        "tokenizedAnswers = tokenizer.texts_to_sequences(answers) # разбиваем текст ответов на последовательности индексов\n",
        "print(\"tokenizedAnswers:\", len(tokenizedAnswers))\n",
        "for i in range(len(tokenizedAnswers)) : # для разбитых на последовательности ответов\n",
        "  tokenizedAnswers[i] = tokenizedAnswers[i][1:] # избавляемся от тега &lt;START>\n",
        "# Делаем последовательности одной длины, заполняя нулями более короткие ответы\n",
        "paddedAnswers = pad_sequences(tokenizedAnswers, maxlen=maxLenAnswers , padding='post')\n",
        "print(\"paddedAnswers:\", len(paddedAnswers))\n",
        "print(\"vocabularySize:\", vocabularySize)\n",
        "oneHotAnswers = utils.to_categorical(paddedAnswers, vocabularySize) # переводим в one hot vector\n",
        "decoderForOutput = np.array(oneHotAnswers) # и сохраняем в виде массива numpy"
      ]
    },
    {
      "cell_type": "code",
      "execution_count": null,
      "id": "Y9mpM0v0yGwl",
      "metadata": {
        "id": "Y9mpM0v0yGwl"
      },
      "outputs": [],
      "source": [
        "from keras.layers import Input\n",
        "from keras.layers import Embedding\n",
        "from keras.layers import LSTM\n",
        "from keras.layers.core import Dense\n",
        "from keras import Model\n",
        "from keras.optimizers import RMSprop\n",
        "from keras.utils.vis_utils import plot_model"
      ]
    },
    {
      "cell_type": "code",
      "execution_count": null,
      "id": "ryT9BYgt2YQn",
      "metadata": {
        "id": "ryT9BYgt2YQn"
      },
      "outputs": [],
      "source": [
        "# Первый входной слой, кодер, выходной слой { display-mode: \"form\" }\n",
        "encoderInputs = Input(shape=(None , ), name = \"EncoderForInput\") # размеры на входе сетки (здесь будет encoderForInput)\n",
        "# Эти данные проходят через слой Embedding (длина словаря, размерность)\n",
        "encoderEmbedding = Embedding(vocabularySize, 200 , mask_zero=True, name = \"Encoder_Embedding\") (encoderInputs)\n",
        "# Затем выход с Embedding пойдёт в LSTM слой, на выходе у которого будет два вектора состояния - state_h , state_c\n",
        "# Вектора состояния - state_h , state_c зададутся в LSTM слое декодера в блоке ниже\n",
        "encoderOutputs, state_h , state_c = LSTM(200, return_state=True, name = \"Encoder_LSTM\")(encoderEmbedding)\n",
        "encoderStates = [state_h, state_c]"
      ]
    },
    {
      "cell_type": "code",
      "execution_count": null,
      "id": "Cf0ImiMSyXxY",
      "metadata": {
        "colab": {
          "base_uri": "https://localhost:8080/",
          "height": 952
        },
        "id": "Cf0ImiMSyXxY",
        "outputId": "75d902f9-9b34-4bf2-a40e-24772f3e25cc"
      },
      "outputs": [],
      "source": [
        "#Второй входной слой, декодер, выходной слой { display-mode: \"form\" }\n",
        "decoderInputs = Input(shape=(None, ), name = \"DecoderForInput\") # размеры на входе сетки (здесь будет decoderForInput)\n",
        "# Эти данные проходят через слой Embedding (длина словаря, размерность)\n",
        "# mask_zero=True - игнорировать нулевые padding при передаче в LSTM. Предотвратит вывод ответа типа: \"У меня все хорошо PAD PAD PAD PAD PAD PAD..\"\n",
        "decoderEmbedding = Embedding(vocabularySize, 200, mask_zero=True, name = \"Decoder_Embedding\") (decoderInputs)\n",
        "# Затем выход с Embedding пойдёт в LSTM слой, которому передаются вектора состояния - state_h , state_c\n",
        "decoderLSTM = LSTM(200, return_state=True, return_sequences=True, name = \"Decoder_LSTM\")\n",
        "decoderOutputs , _ , _ = decoderLSTM (decoderEmbedding, initial_state=encoderStates)\n",
        "# И от LSTM'а сигнал decoderOutputs пропускаем через полносвязный слой с софтмаксом на выходе\n",
        "decoderDense = Dense(vocabularySize, activation='softmax')\n",
        "output = decoderDense (decoderOutputs)\n",
        "#Собираем тренировочную модель нейросети { display-mode: \"form\" }\n",
        "model = Model([encoderInputs, decoderInputs], output)\n",
        "model.compile(optimizer=RMSprop(), loss='categorical_crossentropy')\n",
        "print(model.summary()) # выведем на экран информацию о построенной модели нейросети\n",
        "plot_model(model, to_file='model.png') # и построим график для визуализации слоев и связей между ними"
      ]
    },
    {
      "cell_type": "code",
      "execution_count": null,
      "id": "s8PzcdTIzY16",
      "metadata": {
        "colab": {
          "base_uri": "https://localhost:8080/"
        },
        "id": "s8PzcdTIzY16",
        "outputId": "8ff81425-dc3d-427b-84d9-0e8186c6ffca"
      },
      "outputs": [],
      "source": [
        "# Запустим обучение и сохраним модель\n",
        "model.fit([encoderForInput , decoderForInput], decoderForOutput, batch_size=50, epochs=50)"
      ]
    },
    {
      "cell_type": "code",
      "execution_count": null,
      "id": "hhhJatfG0KNL",
      "metadata": {
        "id": "hhhJatfG0KNL"
      },
      "outputs": [],
      "source": [
        "model.save_weights('chat_weights_v4.h5')"
      ]
    },
    {
      "cell_type": "code",
      "execution_count": null,
      "id": "NXuiGNNtChuH",
      "metadata": {
        "id": "NXuiGNNtChuH"
      },
      "outputs": [],
      "source": [
        "model.load_weights('chat_weights_v4.h5')"
      ]
    },
    {
      "cell_type": "code",
      "execution_count": null,
      "id": "-O4u0tO7A44G",
      "metadata": {
        "id": "-O4u0tO7A44G"
      },
      "outputs": [],
      "source": [
        "def makeInferenceModels():\n",
        "  # Определим модель кодера, на входе далее будут закодированные вопросы(encoderForInputs), на выходе состояния state_h, state_c\n",
        "  encoderModel = Model(encoderInputs, encoderStates)\n",
        "  decoderStateInput_h = Input(shape=(200 ,), name = 'decoderStateInput_h') # обозначим размерность для входного слоя с состоянием state_h\n",
        "  decoderStateInput_c = Input(shape=(200 ,), name = 'decoderStateInput_c') # обозначим размерность для входного слоя с состоянием state_c\n",
        "  decoderStatesInputs = [decoderStateInput_h, decoderStateInput_c] # возьмем оба inputs вместе и запишем в decoderStatesInputs\n",
        "  # Берём ответы, прошедшие через эмбединг, вместе с состояниями и подаём LSTM cлою\n",
        "  decoderOutputs, state_h, state_c = decoderLSTM(decoderEmbedding, initial_state=decoderStatesInputs)\n",
        "  decoderStates = [state_h, state_c] # LSTM даст нам новые состояния\n",
        "  decoderOutputs = decoderDense(decoderOutputs) # и ответы, которые мы пропустим через полносвязный слой с софтмаксом\n",
        "  # Определим модель декодера, на входе далее будут раскодированные ответы (decoderForInputs) и состояния\n",
        "  # на выходе предсказываемый ответ и новые состояния\n",
        "  decoderModel = Model([decoderInputs] + decoderStatesInputs, [decoderOutputs] + decoderStates)\n",
        "\n",
        "  print(decoderModel.summary()) # выведем на экран информацию о построенной модели нейросети\n",
        "  plot_model(decoderModel, to_file='decoderModel.png') # и построим график для визуализации слоев и связей между ними\n",
        "  return encoderModel , decoderModel\n",
        "\n",
        "def strToTokens(sentence: str): # функция принимает строку на вход (предложение с вопросом)\n",
        "  words = sentence.lower().split() # приводит предложение к нижнему регистру и разбирает на слова\n",
        "  tokensList = list() # здесь будет последовательность токенов/индексов\n",
        "  for word in words: # для каждого слова в предложении\n",
        "    tokensList.append(tokenizer.word_index[word]) # определяем токенизатором индекс и добавляем в список\n",
        "    # Функция вернёт вопрос в виде последовательности индексов, ограниченной длиной самого длинного вопроса из нашей базы вопросов\n",
        "  return pad_sequences([tokensList], maxlen=maxLenQuestions , padding='post')"
      ]
    },
    {
      "cell_type": "code",
      "execution_count": null,
      "id": "1HmRg1rrAOTS",
      "metadata": {
        "colab": {
          "base_uri": "https://localhost:8080/",
          "height": 1000
        },
        "id": "1HmRg1rrAOTS",
        "outputId": "2cd792d6-0197-4ab6-d581-258bb3f1bab2"
      },
      "outputs": [],
      "source": [
        "#Устанавливаем окончательные настройки и запускаем модель { display-mode: \"form\" }\n",
        "encModel , decModel = makeInferenceModels() # запускаем функцию для построения модели кодера и декодера\n",
        "for _ in range(10): # задаем количество вопросов, и на каждой итерации в этом диапазоне:\n",
        "  # Получаем значения состояний, которые определит кодер в соответствии с заданным вопросом\n",
        "  statesValues = encModel.predict(strToTokens(input( 'Задайте вопрос : ' )))\n",
        "  # Создаём пустой массив размером (1, 1)\n",
        "  emptyTargetSeq = np.zeros((1, 1))\n",
        "  emptyTargetSeq[0, 0] = tokenizer.word_index['start'] # положим в пустую последовательность начальное слово 'start' в виде индекса\n",
        "  stopCondition = False # зададим условие, при срабатывании которого, прекратится генерация очередного слова\n",
        "  decodedTranslation = '' # здесь будет собираться генерируемый ответ\n",
        "  while not stopCondition : # пока не сработало стоп-условие\n",
        "    # В модель декодера подадим пустую последовательность со словом 'start' и состояния предсказанные кодером по заданному вопросу.\n",
        "    # декодер заменит слово 'start' предсказанным сгенерированным словом и обновит состояния\n",
        "    decOutputs , h , c = decModel.predict([emptyTargetSeq] + statesValues)\n",
        "\n",
        "    #argmax пробежит по вектору decOutputs, найдет макс.значение, и вернёт номер индекса под которым оно лежит в массиве\n",
        "    sampledWordIndex = np.argmax( decOutputs[0, 0, :]) # argmax возьмем от оси, в которой x элементов. Получили индекс предсказанного слова.\n",
        "    sampledWord = None # создаем переменную, в которую положим слово, преобразованное на естественный язык\n",
        "    for word , index in tokenizer.word_index.items():\n",
        "      if sampledWordIndex == index: # если индекс выбранного слова соответствует какому-то индексу из словаря\n",
        "        decodedTranslation += ' {}'.format(word) # слово, идущее под этим индексом в словаре, добавляется в итоговый ответ\n",
        "        sampledWord = word # выбранное слово фиксируем в переменную sampledWord\n",
        "\n",
        "    # Если выбранным словом оказывается 'end' либо если сгенерированный ответ превышает заданную максимальную длину ответа\n",
        "    if sampledWord == 'end' or len(decodedTranslation.split()) > maxLenAnswers:\n",
        "      stopCondition = True # то срабатывает стоп-условие и прекращаем генерацию\n",
        "    emptyTargetSeq = np.zeros((1, 1)) # создаем пустой массив\n",
        "    emptyTargetSeq[0, 0] = sampledWordIndex # заносим туда индекс выбранного слова\n",
        "    statesValues = [h, c] # и состояния, обновленные декодером\n",
        "    # и продолжаем цикл с обновленными параметрами\n",
        "\n",
        "  print(decodedTranslation) # выводим ответ сгенерированный декодером"
      ]
    }
  ],
  "metadata": {
    "accelerator": "TPU",
    "colab": {
      "provenance": []
    },
    "kernelspec": {
      "display_name": "Python 3",
      "name": "python3"
    },
    "language_info": {
      "codemirror_mode": {
        "name": "ipython",
        "version": 3
      },
      "file_extension": ".py",
      "mimetype": "text/x-python",
      "name": "python",
      "nbconvert_exporter": "python",
      "pygments_lexer": "ipython3",
      "version": "3.9.13"
    }
  },
  "nbformat": 4,
  "nbformat_minor": 5
}
